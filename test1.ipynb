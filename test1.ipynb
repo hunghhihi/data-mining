{
 "cells": [
  {
   "cell_type": "code",
   "execution_count": 1,
   "metadata": {},
   "outputs": [],
   "source": [
    "from sklearn.cluster import KMeans\n",
    "import pandas as pd\n",
    "from sklearn.preprocessing import MinMaxScaler\n",
    "from matplotlib import pyplot as plt\n",
    "%matplotlib inline"
   ]
  },
  {
   "cell_type": "code",
   "execution_count": 5,
   "metadata": {},
   "outputs": [],
   "source": [
    "def value_in_col(df, col):\n",
    "        string = []\n",
    "        for i,row in df.loc[:, col].iteritems(): \n",
    "            if row not in (string):\n",
    "                string.append(row)             \n",
    "        values = {}\n",
    "        for i,s in enumerate(string):\n",
    "            values[s] = i\n",
    "        for i,row in df.loc[:, col].iteritems():\n",
    "            df.loc[i, col] = values[row]\n",
    "        return df\n",
    "def train(file):\n",
    "    df = pd.read_csv(file)\n",
    "    group = df.columns.to_series().groupby(df.dtypes).groups\n",
    "    values = {k.name: v for k, v in group.items()}\n",
    "    name = values['object']\n",
    "    for i in name:\n",
    "        value_in_col(df,i)\n",
    "    for i in df.iloc[:, 0:]:\n",
    "        df[i] = df[i].astype(float)\n",
    "    names = []\n",
    "    for col in df.columns:\n",
    "        names.append(col)\n",
    "    scaler = MinMaxScaler()\n",
    "    for i in names:\n",
    "        df[i] = scaler.fit_transform(df[i].values.reshape(-1, 1))\n",
    "    km = KMeans(n_clusters=3)\n",
    "    y_predicted = km.fit_predict(df.iloc[:, 0:])\n",
    "    df['cluster'] = y_predicted\n",
    "    sse = []\n",
    "    k_rng = range(1,20)\n",
    "    for k in k_rng:\n",
    "        km = KMeans(n_clusters=k)\n",
    "        km.fit(df.iloc[:, 0:])\n",
    "        sse.append(km.inertia_)\n",
    "    plt.xlabel('K')\n",
    "    plt.ylabel('Sum of squared error')\n",
    "    return plt.plot(k_rng,sse) \n",
    "\n",
    "def test(trainfile,testfile,cluster_on_train):\n",
    "    df = pd.read_csv(trainfile)\n",
    "    count_row1 = df.shape[0]\n",
    "    df2 = pd.read_csv(testfile)\n",
    "    df = pd.concat([df, df2], ignore_index=True)\n",
    "    count_row2 = df.shape[0]\n",
    "    group = df.columns.to_series().groupby(df.dtypes).groups\n",
    "    values = {k.name: v for k, v in group.items()}\n",
    "    name = values['object']\n",
    "    for i in name:\n",
    "        value_in_col(df,i)\n",
    "    for i in df.iloc[:, 0:]:\n",
    "        df[i] = df[i].astype(float)\n",
    "    names = []\n",
    "    for col in df.columns:\n",
    "        names.append(col)\n",
    "    scaler = MinMaxScaler()\n",
    "    for i in names:\n",
    "        df[i] = scaler.fit_transform(df[i].values.reshape(-1, 1))\n",
    "    km = KMeans(n_clusters=cluster_on_train)\n",
    "    y_predicted = km.fit_predict(df.iloc[:, 0:])\n",
    "    df['cluster'] = y_predicted\n",
    "    list = []\n",
    "    for i,row in df.loc[count_row1:count_row2].iterrows():\n",
    "        list.append(row['cluster'])\n",
    "    percent = {}\n",
    "    for i in list:\n",
    "        percent[i] = list.count(i)/len(list)\n",
    "    return percent\n"
   ]
  },
  {
   "cell_type": "code",
   "execution_count": 3,
   "metadata": {},
   "outputs": [
    {
     "data": {
      "text/plain": [
       "[<matplotlib.lines.Line2D at 0x2024b0f3dc0>]"
      ]
     },
     "execution_count": 3,
     "metadata": {},
     "output_type": "execute_result"
    },
    {
     "data": {
      "image/png": "[encoded data removed]",
      "text/plain": [
       "<Figure size 432x288 with 1 Axes>"
      ]
     },
     "metadata": {
      "needs_background": "light"
     },
     "output_type": "display_data"
    }
   ],
   "source": [
    "train('csv_result-Clustering1-NoClass-Train.csv')"
   ]
  },
  {
   "cell_type": "code",
   "execution_count": 6,
   "metadata": {},
   "outputs": [
    {
     "data": {
      "text/plain": [
       "{8.0: 0.8, 2.0: 0.2}"
      ]
     },
     "execution_count": 6,
     "metadata": {},
     "output_type": "execute_result"
    }
   ],
   "source": [
    "test('csv_result-Clustering1-NoClass-Train.csv','csv_result-Clustering1-NoClass-Test.csv',10)"
   ]
  }
 ],
 "metadata": {
  "kernelspec": {
   "display_name": "Python 3 (ipykernel)",
   "language": "python",
   "name": "python3"
  },
  "language_info": {
   "codemirror_mode": {
    "name": "ipython",
    "version": 3
   },
   "file_extension": ".py",
   "mimetype": "text/x-python",
   "name": "python",
   "nbconvert_exporter": "python",
   "pygments_lexer": "ipython3",
   "version": "3.9.12"
  }
 },
 "nbformat": 4,
 "nbformat_minor": 4
}
